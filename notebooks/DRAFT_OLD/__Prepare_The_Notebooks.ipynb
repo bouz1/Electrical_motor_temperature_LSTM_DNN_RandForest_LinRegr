{
 "cells": [
  {
   "cell_type": "markdown",
   "id": "e7cb4f81-b452-40b3-a1d2-cb6a89d47183",
   "metadata": {},
   "source": [
    "<h1> Merge NoteBook </h1>"
   ]
  },
  {
   "cell_type": "code",
   "execution_count": 48,
   "id": "34dba980-f312-440b-ae3b-b4b5b6b28dec",
   "metadata": {},
   "outputs": [
    {
     "data": {
      "text/plain": [
       "['.ipynb_checkpoints',\n",
       " '00_Introduction.ipynb',\n",
       " '01_DataProcessing.ipynb',\n",
       " '02_LinearRegression.ipynb',\n",
       " '03_RandForest.ipynb',\n",
       " '04_DNN.ipynb',\n",
       " '05_LSTM.ipynb',\n",
       " '06_LSTM_session.ipynb',\n",
       " '07_conclusion.ipynb',\n",
       " '__Prepare_The_Notebooks.ipynb']"
      ]
     },
     "execution_count": 48,
     "metadata": {},
     "output_type": "execute_result"
    }
   ],
   "source": [
    "import os \n",
    "[x for x in os. listdir() if '.ipynb' in x]"
   ]
  },
  {
   "cell_type": "code",
   "execution_count": 49,
   "id": "3d969dbb-a41b-4349-bbc4-eec1830501d9",
   "metadata": {},
   "outputs": [
    {
     "name": "stdout",
     "output_type": "stream",
     "text": [
      "['00_Introduction.ipynb', '01_DataProcessing.ipynb', '02_LinearRegression.ipynb', '03_RandForest.ipynb', '04_DNN.ipynb', '05_LSTM.ipynb', '06_LSTM_session.ipynb', '07_conclusion.ipynb']\n"
     ]
    }
   ],
   "source": [
    "import glob\n",
    "path ='./*.ipynb'\n",
    "files = glob.glob(path)[:-1]\n",
    "files=[x.replace('.\\\\','') for x in files]\n",
    "print(files)"
   ]
  },
  {
   "cell_type": "code",
   "execution_count": 50,
   "id": "71fbdd7f-cbcc-469e-9108-d933d6451232",
   "metadata": {},
   "outputs": [
    {
     "data": {
      "text/plain": [
       "['00_Introduction.ipynb',\n",
       " '01_DataProcessing.ipynb',\n",
       " '02_LinearRegression.ipynb',\n",
       " '03_RandForest.ipynb',\n",
       " '04_DNN.ipynb',\n",
       " '05_LSTM.ipynb',\n",
       " '06_LSTM_session.ipynb',\n",
       " '07_conclusion.ipynb']"
      ]
     },
     "execution_count": 50,
     "metadata": {},
     "output_type": "execute_result"
    }
   ],
   "source": [
    "files"
   ]
  },
  {
   "cell_type": "code",
   "execution_count": 51,
   "id": "5040cc6e-ac61-404d-91ba-d4ab30e2d01c",
   "metadata": {},
   "outputs": [],
   "source": [
    "input_names =files\n",
    "output_name='Electrical_motor_temperature_LSTM_DNN_RandForest_LinRegr.ipynb'"
   ]
  },
  {
   "cell_type": "code",
   "execution_count": 52,
   "id": "486362d9-715e-4e4f-b4aa-419c9bc65263",
   "metadata": {},
   "outputs": [],
   "source": [
    "import json \n",
    "import numpy as np\n"
   ]
  },
  {
   "cell_type": "code",
   "execution_count": 53,
   "id": "b6c0abcf-75e8-402d-b063-d9bd1e47da57",
   "metadata": {},
   "outputs": [],
   "source": [
    "json_list=[]\n",
    "for inp in input_names:\n",
    "    with open(inp, encoding=\"utf-8\") as f:\n",
    "        json_list.append(json.loads(f.read()))\n",
    "        f.close()"
   ]
  },
  {
   "cell_type": "code",
   "execution_count": 54,
   "id": "d3e90606-03dd-46a6-b4b5-0dc7a2a8e7be",
   "metadata": {},
   "outputs": [],
   "source": [
    "cells=[]\n",
    "for x in json_list:\n",
    "    cells+=x['cells']"
   ]
  },
  {
   "cell_type": "code",
   "execution_count": 55,
   "id": "51d05eda-5b36-4a70-839b-fba93f8c8c86",
   "metadata": {},
   "outputs": [],
   "source": [
    "metadata0=json_list[0]['metadata']"
   ]
  },
  {
   "cell_type": "code",
   "execution_count": 56,
   "id": "e47b5828-39ab-4042-833d-9def31d0d0e2",
   "metadata": {},
   "outputs": [],
   "source": [
    "new_json=json_list[0]\n",
    "new_json['cells']=cells\n"
   ]
  },
  {
   "cell_type": "code",
   "execution_count": 57,
   "id": "ba0afe84-5a77-4ebb-9a05-1a5192c381dd",
   "metadata": {},
   "outputs": [
    {
     "data": {
      "text/plain": [
       "['metadata']"
      ]
     },
     "execution_count": 57,
     "metadata": {},
     "output_type": "execute_result"
    }
   ],
   "source": [
    "['metadata']"
   ]
  },
  {
   "cell_type": "markdown",
   "id": "554a25a3-3026-4529-8b53-554d0fb2fe3a",
   "metadata": {},
   "source": [
    "# save"
   ]
  },
  {
   "cell_type": "code",
   "execution_count": 58,
   "id": "08d3a6e8-0a32-4041-b2be-586a3faaa23a",
   "metadata": {},
   "outputs": [],
   "source": [
    "with open(output_name, 'w') as f: \n",
    "    f.write(json.dumps(new_json))\n",
    "    f.close()\n",
    "        "
   ]
  },
  {
   "cell_type": "code",
   "execution_count": null,
   "id": "c32fc634-1e83-41de-8348-1b41730d48ce",
   "metadata": {},
   "outputs": [],
   "source": []
  },
  {
   "cell_type": "code",
   "execution_count": null,
   "id": "4483d344-d541-404a-985a-ddb8a24e08f8",
   "metadata": {},
   "outputs": [],
   "source": []
  },
  {
   "cell_type": "code",
   "execution_count": null,
   "id": "fe6db7fa-6521-4a8b-a853-5064c3039249",
   "metadata": {},
   "outputs": [],
   "source": []
  },
  {
   "cell_type": "code",
   "execution_count": null,
   "id": "bf5188ad-049c-41f0-b911-9587a319d3b9",
   "metadata": {},
   "outputs": [],
   "source": []
  },
  {
   "cell_type": "code",
   "execution_count": null,
   "id": "7a11b25a-0ea8-47bd-a5d8-4b4e90bdd9be",
   "metadata": {},
   "outputs": [],
   "source": []
  },
  {
   "cell_type": "code",
   "execution_count": null,
   "id": "2e2f4736-3c22-4bb8-a37e-ced0935050fb",
   "metadata": {},
   "outputs": [],
   "source": []
  },
  {
   "cell_type": "code",
   "execution_count": null,
   "id": "808b4e28-0ad0-4cbf-8260-13a193ff3deb",
   "metadata": {},
   "outputs": [],
   "source": []
  },
  {
   "cell_type": "code",
   "execution_count": null,
   "id": "bca9e1df-3b9a-4461-b154-0fb017b61ee0",
   "metadata": {},
   "outputs": [],
   "source": []
  },
  {
   "cell_type": "code",
   "execution_count": null,
   "id": "45d56927-f2c0-4825-b3c0-7e10ccc54bf1",
   "metadata": {},
   "outputs": [],
   "source": []
  },
  {
   "cell_type": "code",
   "execution_count": null,
   "id": "8966844a-6549-4e53-977c-5ac754bd1fa9",
   "metadata": {},
   "outputs": [],
   "source": []
  },
  {
   "cell_type": "code",
   "execution_count": null,
   "id": "3b0d3eb4-2fab-4761-9ebd-8600836cb46a",
   "metadata": {},
   "outputs": [],
   "source": []
  },
  {
   "cell_type": "code",
   "execution_count": null,
   "id": "cb3dc0d3-42cb-48e5-a5eb-3fb4f014efb3",
   "metadata": {},
   "outputs": [],
   "source": []
  },
  {
   "cell_type": "code",
   "execution_count": null,
   "id": "0e665e41-9f51-4e7e-abc4-595a5e859686",
   "metadata": {},
   "outputs": [],
   "source": []
  },
  {
   "cell_type": "markdown",
   "id": "17d1834d-2262-4141-b01a-82800c067a78",
   "metadata": {},
   "source": [
    "<h1> Add Table of contennants</h1>"
   ]
  },
  {
   "cell_type": "code",
   "execution_count": 120,
   "id": "d70cf54f-d328-462e-8f57-2d1f65d64f55",
   "metadata": {},
   "outputs": [],
   "source": [
    "import json \n",
    "import numpy as np\n",
    "with open('Electrical_motor_temperature_LSTM_DNN_RandForest_LinRegr.ipynb', encoding=\"utf-8\") as f:\n",
    "    notb_js=json.loads(f.read())\n",
    "    f.close()"
   ]
  },
  {
   "cell_type": "raw",
   "id": "d5334f4d-6c84-404a-852d-d36eb31af207",
   "metadata": {},
   "source": [
    "# remove tag \n",
    "\n",
    "\n",
    "import json \n",
    "with open('convert.ipynb', encoding=\"utf-8\") as f:\n",
    "    notb_js=json.loads(f.read())\n",
    "    f.close()"
   ]
  },
  {
   "cell_type": "code",
   "execution_count": 121,
   "id": "56693fc2-4ec1-40ed-ab2b-483677f9b175",
   "metadata": {},
   "outputs": [],
   "source": [
    "\n",
    "\n",
    "import re\n",
    "# regex pattern\n",
    "pattern = r'<a class=\"title_class\" id=\".*?\"></a>'\n",
    "\n",
    "for i,x in enumerate(notb_js['cells']):\n",
    "    try:\n",
    "        if x['cell_type']=='markdown':\n",
    "            string=x['source'][0]\n",
    "            new_string = re.sub(pattern, '', string)\n",
    "            #print('string', string)\n",
    "            #print('new str',new_string)\n",
    "            notb_js['cells'][i]['source'][0]=new_string\n",
    "            \n",
    "    except : pass"
   ]
  },
  {
   "cell_type": "code",
   "execution_count": 122,
   "id": "50619d2c-c6eb-45e9-a095-82d9c543569a",
   "metadata": {},
   "outputs": [
    {
     "name": "stdout",
     "output_type": "stream",
     "text": [
      "# Intorduction <a class=\"title_class\" id=\"title_1\"></a>\n",
      "# Table of contents <a class=\"title_class\" id=\"title_2\"></a>\n",
      "# Data PreProcessing <a class=\"title_class\" id=\"title_3\"></a>\n",
      "### Import libraries <a class=\"title_class\" id=\"title_4\"></a>\n",
      "### Load the dataset <a class=\"title_class\" id=\"title_5\"></a>\n",
      "### Derived inputs <a class=\"title_class\" id=\"title_6\"></a>\n",
      "### Plots <a class=\"title_class\" id=\"title_7\"></a>\n",
      "### Split the train/test set <a class=\"title_class\" id=\"title_8\"></a>\n",
      "### Prepare X and y  <a class=\"title_class\" id=\"title_9\"></a>\n",
      "# Linear Regression model <a class=\"title_class\" id=\"title_10\"></a>\n",
      "### Import libraries <a class=\"title_class\" id=\"title_11\"></a>\n",
      "### Load data  <a class=\"title_class\" id=\"title_12\"></a>\n",
      "### Model <a class=\"title_class\" id=\"title_13\"></a>\n",
      "### Prediction  <a class=\"title_class\" id=\"title_14\"></a>\n",
      "### Metrics and plot <a class=\"title_class\" id=\"title_15\"></a>\n",
      "### Feature importances <a class=\"title_class\" id=\"title_16\"></a>\n",
      "# Random Forest & Random search <a class=\"title_class\" id=\"title_17\"></a>\n",
      "### Import libraries <a class=\"title_class\" id=\"title_18\"></a>\n",
      "### Load data  <a class=\"title_class\" id=\"title_19\"></a>\n",
      "### Model <a class=\"title_class\" id=\"title_20\"></a>\n",
      "### Prediction  <a class=\"title_class\" id=\"title_21\"></a>\n",
      "### Metrics and plot <a class=\"title_class\" id=\"title_22\"></a>\n",
      "# Deep Neural Network (DNN) <a class=\"title_class\" id=\"title_23\"></a>\n",
      "### Import libraries <a class=\"title_class\" id=\"title_24\"></a>\n",
      "### Load data  <a class=\"title_class\" id=\"title_25\"></a>\n",
      "### Temporal undersampling <a class=\"title_class\" id=\"title_26\"></a>\n",
      "### Z normalization <a class=\"title_class\" id=\"title_27\"></a>\n",
      "### Model  <a class=\"title_class\" id=\"title_28\"></a>\n",
      "### Prediction  <a class=\"title_class\" id=\"title_29\"></a>\n",
      "### Metrics and plot <a class=\"title_class\" id=\"title_30\"></a>\n",
      "# Long Short Term Memory (LSTM) <a class=\"title_class\" id=\"title_31\"></a>\n",
      "### Import libraries <a class=\"title_class\" id=\"title_32\"></a>\n",
      "### Load data  <a class=\"title_class\" id=\"title_33\"></a>\n",
      "### Temporal undersampling <a class=\"title_class\" id=\"title_34\"></a>\n",
      "### Z normalization <a class=\"title_class\" id=\"title_35\"></a>\n",
      "### Reshape X input <a class=\"title_class\" id=\"title_36\"></a>\n",
      "### Model  <a class=\"title_class\" id=\"title_37\"></a>\n",
      "### Prediction  <a class=\"title_class\" id=\"title_38\"></a>\n",
      "### Metrics and plot <a class=\"title_class\" id=\"title_39\"></a>\n",
      "# Long Short Term Memory (LSTM) With session <a class=\"title_class\" id=\"title_40\"></a>\n",
      "### Import libraries <a class=\"title_class\" id=\"title_41\"></a>\n",
      "### Load data  <a class=\"title_class\" id=\"title_42\"></a>\n",
      "### Temporal undersampling <a class=\"title_class\" id=\"title_43\"></a>\n",
      "### Z normalization <a class=\"title_class\" id=\"title_44\"></a>\n",
      "### Reshape X input <a class=\"title_class\" id=\"title_45\"></a>\n",
      "### The model  <a class=\"title_class\" id=\"title_46\"></a>\n",
      "### Prediction  <a class=\"title_class\" id=\"title_47\"></a>\n",
      "### Metrics and plot <a class=\"title_class\" id=\"title_48\"></a>\n",
      "# Models comparison and conclusion <a class=\"title_class\" id=\"title_49\"></a>\n",
      "### Comparison of the metrics <a class=\"title_class\" id=\"title_50\"></a>\n",
      "### The comparison of error mean/std of each model <a class=\"title_class\" id=\"title_51\"></a>\n",
      "### Conclusion <a class=\"title_class\" id=\"title_52\"></a>\n"
     ]
    }
   ],
   "source": [
    "titile1_id=0\n",
    "table=[]\n",
    "level=3\n",
    "    \n",
    "for i,x in enumerate(notb_js['cells']):\n",
    "    hash_level=''\n",
    "\n",
    "    for k in range(level):\n",
    "        hash_level+='#'\n",
    "        try:\n",
    "            if x['cell_type']=='markdown':\n",
    "                hash_=x['source'][0].split(' ')[0]\n",
    "                if hash_==hash_level:\n",
    "                    titile1_id+=1\n",
    "                    id_='title_'+str(titile1_id)\n",
    "                    title_=x['source'][0]\n",
    "                    title_=title_.split('\\n')[0]\n",
    "                    title_2=title_+ ' <a class=\"title_class\" id=\"'+id_+'\"></a>'\n",
    "                    print( title_2)\n",
    "                    title_without_hash=' '.join(title_.split(' ')[1:])\n",
    "                    table.append(k*' '+'* [' +  title_without_hash+']'+ '(#'+ id_+')')\n",
    "                    notb_js['cells'][i]['source'][0]=title_2\n",
    "        except: pass"
   ]
  },
  {
   "cell_type": "raw",
   "id": "56057b6b-4cc0-4a53-aa0a-036d05170d7f",
   "metadata": {},
   "source": [
    "titile1_id=0\n",
    "table=[]\n",
    "hash_level=''\n",
    "level=3\n",
    "for k in range(level):\n",
    "    hash_level+='#'\n",
    "    \n",
    "    for i,x in enumerate(notb_js['cells']):\n",
    "        try:\n",
    "            if x['cell_type']=='markdown':\n",
    "                hash_=x['source'][0].split(' ')[0]\n",
    "                if hash_==hash_level:\n",
    "                    titile1_id+=1\n",
    "                    id_='title_'+str(titile1_id)\n",
    "                    title_=x['source'][0]\n",
    "                    title_=title_.split('\\n')[0]\n",
    "                    title_2=title_+ ' <a class=\"title_class\" id=\"'+id_+'\"></a>'\n",
    "                    print( title_2)\n",
    "                    title_without_hash=' '.join(title_.split(' ')[1:])\n",
    "                    table.append(k*'\\t'+'* [' +  title_without_hash+']'+ '(#'+ id_+')')\n",
    "                    notb_js['cells'][i]['source'][0]=title_2\n",
    "        except: pass"
   ]
  },
  {
   "cell_type": "code",
   "execution_count": 123,
   "id": "9005572e-2a6f-410b-98a2-edcc0aca1e9d",
   "metadata": {},
   "outputs": [
    {
     "data": {
      "text/plain": [
       "['* [Intorduction](#title_1)',\n",
       " '* [Table of contents](#title_2)',\n",
       " '* [Data PreProcessing](#title_3)',\n",
       " '  * [Import libraries](#title_4)',\n",
       " '  * [Load the dataset](#title_5)',\n",
       " '  * [Derived inputs](#title_6)',\n",
       " '  * [Plots](#title_7)',\n",
       " '  * [Split the train/test set](#title_8)',\n",
       " '  * [Prepare X and y ](#title_9)',\n",
       " '* [Linear Regression model](#title_10)',\n",
       " '  * [Import libraries](#title_11)',\n",
       " '  * [Load data ](#title_12)',\n",
       " '  * [Model](#title_13)',\n",
       " '  * [Prediction ](#title_14)',\n",
       " '  * [Metrics and plot](#title_15)',\n",
       " '  * [Feature importances](#title_16)',\n",
       " '* [Random Forest & Random search](#title_17)',\n",
       " '  * [Import libraries](#title_18)',\n",
       " '  * [Load data ](#title_19)',\n",
       " '  * [Model](#title_20)',\n",
       " '  * [Prediction ](#title_21)',\n",
       " '  * [Metrics and plot](#title_22)',\n",
       " '* [Deep Neural Network (DNN)](#title_23)',\n",
       " '  * [Import libraries](#title_24)',\n",
       " '  * [Load data ](#title_25)',\n",
       " '  * [Temporal undersampling](#title_26)',\n",
       " '  * [Z normalization](#title_27)',\n",
       " '  * [Model ](#title_28)',\n",
       " '  * [Prediction ](#title_29)',\n",
       " '  * [Metrics and plot](#title_30)',\n",
       " '* [Long Short Term Memory (LSTM)](#title_31)',\n",
       " '  * [Import libraries](#title_32)',\n",
       " '  * [Load data ](#title_33)',\n",
       " '  * [Temporal undersampling](#title_34)',\n",
       " '  * [Z normalization](#title_35)',\n",
       " '  * [Reshape X input](#title_36)',\n",
       " '  * [Model ](#title_37)',\n",
       " '  * [Prediction ](#title_38)',\n",
       " '  * [Metrics and plot](#title_39)',\n",
       " '* [Long Short Term Memory (LSTM) With session](#title_40)',\n",
       " '  * [Import libraries](#title_41)',\n",
       " '  * [Load data ](#title_42)',\n",
       " '  * [Temporal undersampling](#title_43)',\n",
       " '  * [Z normalization](#title_44)',\n",
       " '  * [Reshape X input](#title_45)',\n",
       " '  * [The model ](#title_46)',\n",
       " '  * [Prediction ](#title_47)',\n",
       " '  * [Metrics and plot](#title_48)',\n",
       " '* [Models comparison and conclusion](#title_49)',\n",
       " '  * [Comparison of the metrics](#title_50)',\n",
       " '  * [The comparison of error mean/std of each model](#title_51)',\n",
       " '  * [Conclusion](#title_52)']"
      ]
     },
     "execution_count": 123,
     "metadata": {},
     "output_type": "execute_result"
    }
   ],
   "source": [
    "table"
   ]
  },
  {
   "cell_type": "code",
   "execution_count": 124,
   "id": "41d11486-ce2e-43f6-bd49-be20ad6ac424",
   "metadata": {},
   "outputs": [
    {
     "name": "stdout",
     "output_type": "stream",
     "text": [
      "* [Intorduction](#title_1)\n",
      "* [Table of contents](#title_2)\n",
      "* [Data PreProcessing](#title_3)\n",
      "  * [Import libraries](#title_4)\n",
      "  * [Load the dataset](#title_5)\n",
      "  * [Derived inputs](#title_6)\n",
      "  * [Plots](#title_7)\n",
      "  * [Split the train/test set](#title_8)\n",
      "  * [Prepare X and y ](#title_9)\n",
      "* [Linear Regression model](#title_10)\n",
      "  * [Import libraries](#title_11)\n",
      "  * [Load data ](#title_12)\n",
      "  * [Model](#title_13)\n",
      "  * [Prediction ](#title_14)\n",
      "  * [Metrics and plot](#title_15)\n",
      "  * [Feature importances](#title_16)\n",
      "* [Random Forest & Random search](#title_17)\n",
      "  * [Import libraries](#title_18)\n",
      "  * [Load data ](#title_19)\n",
      "  * [Model](#title_20)\n",
      "  * [Prediction ](#title_21)\n",
      "  * [Metrics and plot](#title_22)\n",
      "* [Deep Neural Network (DNN)](#title_23)\n",
      "  * [Import libraries](#title_24)\n",
      "  * [Load data ](#title_25)\n",
      "  * [Temporal undersampling](#title_26)\n",
      "  * [Z normalization](#title_27)\n",
      "  * [Model ](#title_28)\n",
      "  * [Prediction ](#title_29)\n",
      "  * [Metrics and plot](#title_30)\n",
      "* [Long Short Term Memory (LSTM)](#title_31)\n",
      "  * [Import libraries](#title_32)\n",
      "  * [Load data ](#title_33)\n",
      "  * [Temporal undersampling](#title_34)\n",
      "  * [Z normalization](#title_35)\n",
      "  * [Reshape X input](#title_36)\n",
      "  * [Model ](#title_37)\n",
      "  * [Prediction ](#title_38)\n",
      "  * [Metrics and plot](#title_39)\n",
      "* [Long Short Term Memory (LSTM) With session](#title_40)\n",
      "  * [Import libraries](#title_41)\n",
      "  * [Load data ](#title_42)\n",
      "  * [Temporal undersampling](#title_43)\n",
      "  * [Z normalization](#title_44)\n",
      "  * [Reshape X input](#title_45)\n",
      "  * [The model ](#title_46)\n",
      "  * [Prediction ](#title_47)\n",
      "  * [Metrics and plot](#title_48)\n",
      "* [Models comparison and conclusion](#title_49)\n",
      "  * [Comparison of the metrics](#title_50)\n",
      "  * [The comparison of error mean/std of each model](#title_51)\n",
      "  * [Conclusion](#title_52)\n"
     ]
    }
   ],
   "source": [
    "print('\\n'.join(table))"
   ]
  },
  {
   "cell_type": "code",
   "execution_count": 125,
   "id": "b33a8474-8b95-4f8c-8afb-7e605d81da18",
   "metadata": {},
   "outputs": [
    {
     "name": "stdout",
     "output_type": "stream",
     "text": [
      "# Table of contents\n",
      "* [Intorduction](#title_1)\n",
      "* [Table of contents](#title_2)\n",
      "* [Data PreProcessing](#title_3)\n",
      "  * [Import libraries](#title_4)\n",
      "  * [Load the dataset](#title_5)\n",
      "  * [Derived inputs](#title_6)\n",
      "  * [Plots](#title_7)\n",
      "  * [Split the train/test set](#title_8)\n",
      "  * [Prepare X and y ](#title_9)\n",
      "* [Linear Regression model](#title_10)\n",
      "  * [Import libraries](#title_11)\n",
      "  * [Load data ](#title_12)\n",
      "  * [Model](#title_13)\n",
      "  * [Prediction ](#title_14)\n",
      "  * [Metrics and plot](#title_15)\n",
      "  * [Feature importances](#title_16)\n",
      "* [Random Forest & Random search](#title_17)\n",
      "  * [Import libraries](#title_18)\n",
      "  * [Load data ](#title_19)\n",
      "  * [Model](#title_20)\n",
      "  * [Prediction ](#title_21)\n",
      "  * [Metrics and plot](#title_22)\n",
      "* [Deep Neural Network (DNN)](#title_23)\n",
      "  * [Import libraries](#title_24)\n",
      "  * [Load data ](#title_25)\n",
      "  * [Temporal undersampling](#title_26)\n",
      "  * [Z normalization](#title_27)\n",
      "  * [Model ](#title_28)\n",
      "  * [Prediction ](#title_29)\n",
      "  * [Metrics and plot](#title_30)\n",
      "* [Long Short Term Memory (LSTM)](#title_31)\n",
      "  * [Import libraries](#title_32)\n",
      "  * [Load data ](#title_33)\n",
      "  * [Temporal undersampling](#title_34)\n",
      "  * [Z normalization](#title_35)\n",
      "  * [Reshape X input](#title_36)\n",
      "  * [Model ](#title_37)\n",
      "  * [Prediction ](#title_38)\n",
      "  * [Metrics and plot](#title_39)\n",
      "* [Long Short Term Memory (LSTM) With session](#title_40)\n",
      "  * [Import libraries](#title_41)\n",
      "  * [Load data ](#title_42)\n",
      "  * [Temporal undersampling](#title_43)\n",
      "  * [Z normalization](#title_44)\n",
      "  * [Reshape X input](#title_45)\n",
      "  * [The model ](#title_46)\n",
      "  * [Prediction ](#title_47)\n",
      "  * [Metrics and plot](#title_48)\n",
      "* [Models comparison and conclusion](#title_49)\n",
      "  * [Comparison of the metrics](#title_50)\n",
      "  * [The comparison of error mean/std of each model](#title_51)\n",
      "  * [Conclusion](#title_52)\n"
     ]
    }
   ],
   "source": [
    "Table_contents='# Table of contents\\n'+'\\n'.join(table)\n",
    "print(Table_contents)"
   ]
  },
  {
   "cell_type": "markdown",
   "id": "c81430af-ea41-43c0-8f4b-79c1b6c318ac",
   "metadata": {},
   "source": [
    "# Creat Table_contents in the top of the notebook"
   ]
  },
  {
   "cell_type": "raw",
   "id": "3a2b0f5d-1763-45c8-9d11-6ed4671e8521",
   "metadata": {},
   "source": [
    "cell_id=''.join(np.random.choice(np.arange(0,16), size=37, replace=True).astype(str))\n",
    "\n",
    "notb_js['cells']=[{'cell_type': 'markdown',\n",
    "  'id': cell_id,\n",
    "  'metadata': {},\n",
    "  'source': [Table_contents]}]+notb_js['cells']"
   ]
  },
  {
   "cell_type": "code",
   "execution_count": null,
   "id": "813c7df7-4880-4c86-9119-15542bb26f45",
   "metadata": {},
   "outputs": [],
   "source": []
  },
  {
   "cell_type": "markdown",
   "id": "0238456c-4828-48a7-b57d-30a76f4d1ccd",
   "metadata": {},
   "source": [
    "# change Table_contents : cell must be taget with a name '# Table of contents'"
   ]
  },
  {
   "cell_type": "code",
   "execution_count": 126,
   "id": "a6a1a69e-38be-4c8a-9f6a-688f48523e49",
   "metadata": {},
   "outputs": [],
   "source": [
    "for i,x in enumerate(notb_js['cells']):\n",
    "        try:\n",
    "            if x['cell_type']=='markdown' and '# Table of contents' in x['source'][0]:\n",
    "                notb_js['cells'][i]['source']=[Table_contents]\n",
    "        except: pass"
   ]
  },
  {
   "cell_type": "markdown",
   "id": "bf7b7924-56ee-4b6b-8c4f-6add84e8d06c",
   "metadata": {},
   "source": [
    "# save"
   ]
  },
  {
   "cell_type": "code",
   "execution_count": 127,
   "id": "c35cd289-a2e2-4af3-aeef-a76bd9ffc856",
   "metadata": {},
   "outputs": [],
   "source": [
    "with open('Electrical_motor_temperature_LSTM_DNN_RandForest_LinRegr_V2.ipynb', 'w') as f: \n",
    "    f.write(json.dumps(notb_js))\n",
    "    f.close()\n",
    "        "
   ]
  },
  {
   "cell_type": "code",
   "execution_count": null,
   "id": "9b85bc00-65b9-4741-a2b5-2d3c997bd996",
   "metadata": {},
   "outputs": [],
   "source": []
  },
  {
   "cell_type": "code",
   "execution_count": null,
   "id": "5e0729c7-c531-4363-a517-4ca322a3ad0b",
   "metadata": {},
   "outputs": [],
   "source": []
  },
  {
   "cell_type": "code",
   "execution_count": null,
   "id": "2e8269f3-e92b-4149-b991-c5e3573aceea",
   "metadata": {},
   "outputs": [],
   "source": []
  }
 ],
 "metadata": {
  "kernelspec": {
   "display_name": "Python 3 (ipykernel)",
   "language": "python",
   "name": "python3"
  },
  "language_info": {
   "codemirror_mode": {
    "name": "ipython",
    "version": 3
   },
   "file_extension": ".py",
   "mimetype": "text/x-python",
   "name": "python",
   "nbconvert_exporter": "python",
   "pygments_lexer": "ipython3",
   "version": "3.10.5"
  }
 },
 "nbformat": 4,
 "nbformat_minor": 5
}
