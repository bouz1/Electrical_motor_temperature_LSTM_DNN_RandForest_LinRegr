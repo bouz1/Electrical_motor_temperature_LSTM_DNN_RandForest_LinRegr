{
 "cells": [
  {
   "cell_type": "markdown",
   "id": "b2ab469a-2072-425a-840c-247fb490ef94",
   "metadata": {},
   "source": [
    "# Models comparison and conclusion"
   ]
  },
  {
   "cell_type": "markdown",
   "id": "5e2a915f-f86c-426a-a8f1-12858915c856",
   "metadata": {},
   "source": [
    "**Import libraries**"
   ]
  },
  {
   "cell_type": "code",
   "execution_count": 3,
   "id": "991bf9bf-3684-4d8c-a823-2ab30d5c5afb",
   "metadata": {},
   "outputs": [],
   "source": [
    "import pandas as pd\n",
    "import matplotlib.pyplot as plt\n",
    "import seaborn as sns\n",
    "import numpy as np\n",
    "from utils import *"
   ]
  },
  {
   "cell_type": "markdown",
   "id": "dda7e5bb-6b00-4dbf-90c9-40722ca42601",
   "metadata": {},
   "source": [
    "### Comparison of the metrics"
   ]
  },
  {
   "cell_type": "markdown",
   "id": "95d3fc28-03bf-4493-a7b5-0ed416925af6",
   "metadata": {},
   "source": [
    "**The metrics of each model**"
   ]
  },
  {
   "cell_type": "markdown",
   "id": "d82cda46-6142-4cf9-90d8-16aadc739169",
   "metadata": {},
   "source": [
    "Organize the metrics of each model in a dictionary"
   ]
  },
  {
   "cell_type": "code",
   "execution_count": 25,
   "id": "b7cdf002-0c67-4311-aa55-32b5cd2d67be",
   "metadata": {},
   "outputs": [],
   "source": [
    "dic={\n",
    "'LinearRegression': {\n",
    "'Train set':\n",
    "{'r2_score': 0.8509728173767069, 'MSE': 52.41993356822764, 'RMSE': 7.240161156233171, 'NMSE': 0.013107461066154206}\n",
    ",'Test set':\n",
    "{'r2_score': 0.8409277832842572, 'MSE': 52.09309754904043, 'RMSE': 7.217554817875679, 'NMSE': 0.017792183457083922}  \n",
    "} \n",
    ",'RandForest':{\n",
    "'Train set':\n",
    "{'r2_score': 0.9999009769749209, 'MSE': 0.03483109795810131, 'RMSE': 0.18663091372573118, 'NMSE': 8.709420811893875e-06}\n",
    ",'Test set':\n",
    "{'r2_score': 0.8775015737002211, 'MSE': 40.1158832295746, 'RMSE': 6.333710068322878, 'NMSE': 0.013701415111505402}\n",
    "}\n",
    ",'DNN': {\n",
    "'Train set':\n",
    "{'r2_score': 0.9319059301052521, 'MSE': 23.95176822640016, 'RMSE': 4.8940543750963945, 'NMSE': 0.005988927218422694}\n",
    ",'Test set':\n",
    "{'r2_score': 0.8455059571217549, 'MSE': 50.596522986960906, 'RMSE': 7.113123293389544, 'NMSE': 0.01728099215889291}\n",
    "}\n",
    ",'LSTM':{\n",
    "'Train set':\n",
    "{'r2_score': 0.9668431402709771, 'MSE': 11.651057054092657, 'RMSE': 3.41336447718269, 'NMSE': 0.0029121275239807}\n",
    ",'Test set':\n",
    "{'r2_score': 0.9195336751782257, 'MSE': 26.34358586713694, 'RMSE': 5.13260030268644, 'NMSE': 0.008986687432743007}\n",
    "}\n",
    ",'LSTM_session':{\n",
    "'Train set':\n",
    "{'r2_score': 0.9670497054302775, 'MSE': 11.1632160396884, 'RMSE': 3.3411399311744487, 'NMSE': 0.0027476483309007817}\n",
    ",'Test set':\n",
    "{'r2_score': 0.9211842386327109, 'MSE': 25.63767626638323, 'RMSE': 5.063366100370704, 'NMSE': 0.008630940925311264}\n",
    "}\n",
    "}"
   ]
  },
  {
   "cell_type": "markdown",
   "id": "5b459a9c-f513-41b0-b029-a903c1e2d7a9",
   "metadata": {},
   "source": [
    "**Prepare the data Frame**"
   ]
  },
  {
   "cell_type": "code",
   "execution_count": 26,
   "id": "90b8ad69-9548-4694-90a3-c7288e3844d0",
   "metadata": {},
   "outputs": [
    {
     "data": {
      "text/html": [
       "<div>\n",
       "<style scoped>\n",
       "    .dataframe tbody tr th:only-of-type {\n",
       "        vertical-align: middle;\n",
       "    }\n",
       "\n",
       "    .dataframe tbody tr th {\n",
       "        vertical-align: top;\n",
       "    }\n",
       "\n",
       "    .dataframe thead th {\n",
       "        text-align: right;\n",
       "    }\n",
       "</style>\n",
       "<table border=\"1\" class=\"dataframe\">\n",
       "  <thead>\n",
       "    <tr style=\"text-align: right;\">\n",
       "      <th></th>\n",
       "      <th></th>\n",
       "      <th>r2_score</th>\n",
       "      <th>MSE</th>\n",
       "      <th>RMSE</th>\n",
       "      <th>NMSE</th>\n",
       "    </tr>\n",
       "  </thead>\n",
       "  <tbody>\n",
       "    <tr>\n",
       "      <th rowspan=\"2\" valign=\"top\">LinearRegression</th>\n",
       "      <th>Train set</th>\n",
       "      <td>0.850973</td>\n",
       "      <td>52.419934</td>\n",
       "      <td>7.240161</td>\n",
       "      <td>0.013107</td>\n",
       "    </tr>\n",
       "    <tr>\n",
       "      <th>Test set</th>\n",
       "      <td>0.840928</td>\n",
       "      <td>52.093098</td>\n",
       "      <td>7.217555</td>\n",
       "      <td>0.017792</td>\n",
       "    </tr>\n",
       "    <tr>\n",
       "      <th rowspan=\"2\" valign=\"top\">RandForest</th>\n",
       "      <th>Train set</th>\n",
       "      <td>0.999901</td>\n",
       "      <td>0.034831</td>\n",
       "      <td>0.186631</td>\n",
       "      <td>0.000009</td>\n",
       "    </tr>\n",
       "    <tr>\n",
       "      <th>Test set</th>\n",
       "      <td>0.877502</td>\n",
       "      <td>40.115883</td>\n",
       "      <td>6.333710</td>\n",
       "      <td>0.013701</td>\n",
       "    </tr>\n",
       "    <tr>\n",
       "      <th rowspan=\"2\" valign=\"top\">DNN</th>\n",
       "      <th>Train set</th>\n",
       "      <td>0.931906</td>\n",
       "      <td>23.951768</td>\n",
       "      <td>4.894054</td>\n",
       "      <td>0.005989</td>\n",
       "    </tr>\n",
       "    <tr>\n",
       "      <th>Test set</th>\n",
       "      <td>0.845506</td>\n",
       "      <td>50.596523</td>\n",
       "      <td>7.113123</td>\n",
       "      <td>0.017281</td>\n",
       "    </tr>\n",
       "    <tr>\n",
       "      <th rowspan=\"2\" valign=\"top\">LSTM</th>\n",
       "      <th>Train set</th>\n",
       "      <td>0.966843</td>\n",
       "      <td>11.651057</td>\n",
       "      <td>3.413364</td>\n",
       "      <td>0.002912</td>\n",
       "    </tr>\n",
       "    <tr>\n",
       "      <th>Test set</th>\n",
       "      <td>0.919534</td>\n",
       "      <td>26.343586</td>\n",
       "      <td>5.132600</td>\n",
       "      <td>0.008987</td>\n",
       "    </tr>\n",
       "    <tr>\n",
       "      <th rowspan=\"2\" valign=\"top\">LSTM_session</th>\n",
       "      <th>Train set</th>\n",
       "      <td>0.967050</td>\n",
       "      <td>11.163216</td>\n",
       "      <td>3.341140</td>\n",
       "      <td>0.002748</td>\n",
       "    </tr>\n",
       "    <tr>\n",
       "      <th>Test set</th>\n",
       "      <td>0.921184</td>\n",
       "      <td>25.637676</td>\n",
       "      <td>5.063366</td>\n",
       "      <td>0.008631</td>\n",
       "    </tr>\n",
       "  </tbody>\n",
       "</table>\n",
       "</div>"
      ],
      "text/plain": [
       "                            r2_score        MSE      RMSE      NMSE\n",
       "LinearRegression Train set  0.850973  52.419934  7.240161  0.013107\n",
       "                 Test set   0.840928  52.093098  7.217555  0.017792\n",
       "RandForest       Train set  0.999901   0.034831  0.186631  0.000009\n",
       "                 Test set   0.877502  40.115883  6.333710  0.013701\n",
       "DNN              Train set  0.931906  23.951768  4.894054  0.005989\n",
       "                 Test set   0.845506  50.596523  7.113123  0.017281\n",
       "LSTM             Train set  0.966843  11.651057  3.413364  0.002912\n",
       "                 Test set   0.919534  26.343586  5.132600  0.008987\n",
       "LSTM_session     Train set  0.967050  11.163216  3.341140  0.002748\n",
       "                 Test set   0.921184  25.637676  5.063366  0.008631"
      ]
     },
     "execution_count": 26,
     "metadata": {},
     "output_type": "execute_result"
    }
   ],
   "source": [
    "df_comp = pd.DataFrame.from_dict({(i,j): dic[i][j] \n",
    "                           for i in dic.keys() \n",
    "                           for j in dic[i].keys()},\n",
    "                       orient='index')\n",
    "\n",
    "df_comp"
   ]
  },
  {
   "cell_type": "markdown",
   "id": "619d04e8-0248-41bb-ae6f-93c44c2373bf",
   "metadata": {},
   "source": [
    "**Only Train set**"
   ]
  },
  {
   "cell_type": "code",
   "execution_count": 27,
   "id": "b3e11bdf-f475-4421-a42e-9b54e5f65788",
   "metadata": {},
   "outputs": [
    {
     "data": {
      "text/html": [
       "<div>\n",
       "<style scoped>\n",
       "    .dataframe tbody tr th:only-of-type {\n",
       "        vertical-align: middle;\n",
       "    }\n",
       "\n",
       "    .dataframe tbody tr th {\n",
       "        vertical-align: top;\n",
       "    }\n",
       "\n",
       "    .dataframe thead th {\n",
       "        text-align: right;\n",
       "    }\n",
       "</style>\n",
       "<table border=\"1\" class=\"dataframe\">\n",
       "  <thead>\n",
       "    <tr style=\"text-align: right;\">\n",
       "      <th></th>\n",
       "      <th></th>\n",
       "      <th>r2_score</th>\n",
       "      <th>MSE</th>\n",
       "      <th>RMSE</th>\n",
       "      <th>NMSE</th>\n",
       "    </tr>\n",
       "  </thead>\n",
       "  <tbody>\n",
       "    <tr>\n",
       "      <th>LinearRegression</th>\n",
       "      <th>Train set</th>\n",
       "      <td>0.850973</td>\n",
       "      <td>52.419934</td>\n",
       "      <td>7.240161</td>\n",
       "      <td>0.013107</td>\n",
       "    </tr>\n",
       "    <tr>\n",
       "      <th>RandForest</th>\n",
       "      <th>Train set</th>\n",
       "      <td>0.999901</td>\n",
       "      <td>0.034831</td>\n",
       "      <td>0.186631</td>\n",
       "      <td>0.000009</td>\n",
       "    </tr>\n",
       "    <tr>\n",
       "      <th>DNN</th>\n",
       "      <th>Train set</th>\n",
       "      <td>0.931906</td>\n",
       "      <td>23.951768</td>\n",
       "      <td>4.894054</td>\n",
       "      <td>0.005989</td>\n",
       "    </tr>\n",
       "    <tr>\n",
       "      <th>LSTM</th>\n",
       "      <th>Train set</th>\n",
       "      <td>0.966843</td>\n",
       "      <td>11.651057</td>\n",
       "      <td>3.413364</td>\n",
       "      <td>0.002912</td>\n",
       "    </tr>\n",
       "    <tr>\n",
       "      <th>LSTM_session</th>\n",
       "      <th>Train set</th>\n",
       "      <td>0.967050</td>\n",
       "      <td>11.163216</td>\n",
       "      <td>3.341140</td>\n",
       "      <td>0.002748</td>\n",
       "    </tr>\n",
       "  </tbody>\n",
       "</table>\n",
       "</div>"
      ],
      "text/plain": [
       "                            r2_score        MSE      RMSE      NMSE\n",
       "LinearRegression Train set  0.850973  52.419934  7.240161  0.013107\n",
       "RandForest       Train set  0.999901   0.034831  0.186631  0.000009\n",
       "DNN              Train set  0.931906  23.951768  4.894054  0.005989\n",
       "LSTM             Train set  0.966843  11.651057  3.413364  0.002912\n",
       "LSTM_session     Train set  0.967050  11.163216  3.341140  0.002748"
      ]
     },
     "execution_count": 27,
     "metadata": {},
     "output_type": "execute_result"
    }
   ],
   "source": [
    "df_comp_train=df_comp.loc[(slice(None), 'Train set'), :]\n",
    "df_comp_train"
   ]
  },
  {
   "cell_type": "markdown",
   "id": "ebb5c80b-d956-424a-a420-fc45f859cb42",
   "metadata": {},
   "source": [
    "**Only Test set**"
   ]
  },
  {
   "cell_type": "code",
   "execution_count": 28,
   "id": "6d0c8b46-1312-4223-b87b-3ee826e00d46",
   "metadata": {},
   "outputs": [
    {
     "data": {
      "text/html": [
       "<div>\n",
       "<style scoped>\n",
       "    .dataframe tbody tr th:only-of-type {\n",
       "        vertical-align: middle;\n",
       "    }\n",
       "\n",
       "    .dataframe tbody tr th {\n",
       "        vertical-align: top;\n",
       "    }\n",
       "\n",
       "    .dataframe thead th {\n",
       "        text-align: right;\n",
       "    }\n",
       "</style>\n",
       "<table border=\"1\" class=\"dataframe\">\n",
       "  <thead>\n",
       "    <tr style=\"text-align: right;\">\n",
       "      <th></th>\n",
       "      <th></th>\n",
       "      <th>r2_score</th>\n",
       "      <th>MSE</th>\n",
       "      <th>RMSE</th>\n",
       "      <th>NMSE</th>\n",
       "    </tr>\n",
       "  </thead>\n",
       "  <tbody>\n",
       "    <tr>\n",
       "      <th>LinearRegression</th>\n",
       "      <th>Test set</th>\n",
       "      <td>0.840928</td>\n",
       "      <td>52.093098</td>\n",
       "      <td>7.217555</td>\n",
       "      <td>0.017792</td>\n",
       "    </tr>\n",
       "    <tr>\n",
       "      <th>RandForest</th>\n",
       "      <th>Test set</th>\n",
       "      <td>0.877502</td>\n",
       "      <td>40.115883</td>\n",
       "      <td>6.333710</td>\n",
       "      <td>0.013701</td>\n",
       "    </tr>\n",
       "    <tr>\n",
       "      <th>DNN</th>\n",
       "      <th>Test set</th>\n",
       "      <td>0.845506</td>\n",
       "      <td>50.596523</td>\n",
       "      <td>7.113123</td>\n",
       "      <td>0.017281</td>\n",
       "    </tr>\n",
       "    <tr>\n",
       "      <th>LSTM</th>\n",
       "      <th>Test set</th>\n",
       "      <td>0.919534</td>\n",
       "      <td>26.343586</td>\n",
       "      <td>5.132600</td>\n",
       "      <td>0.008987</td>\n",
       "    </tr>\n",
       "    <tr>\n",
       "      <th>LSTM_session</th>\n",
       "      <th>Test set</th>\n",
       "      <td>0.921184</td>\n",
       "      <td>25.637676</td>\n",
       "      <td>5.063366</td>\n",
       "      <td>0.008631</td>\n",
       "    </tr>\n",
       "  </tbody>\n",
       "</table>\n",
       "</div>"
      ],
      "text/plain": [
       "                           r2_score        MSE      RMSE      NMSE\n",
       "LinearRegression Test set  0.840928  52.093098  7.217555  0.017792\n",
       "RandForest       Test set  0.877502  40.115883  6.333710  0.013701\n",
       "DNN              Test set  0.845506  50.596523  7.113123  0.017281\n",
       "LSTM             Test set  0.919534  26.343586  5.132600  0.008987\n",
       "LSTM_session     Test set  0.921184  25.637676  5.063366  0.008631"
      ]
     },
     "execution_count": 28,
     "metadata": {},
     "output_type": "execute_result"
    }
   ],
   "source": [
    "df_comp_test=df_comp.loc[(slice(None), 'Test set'), :]\n",
    "df_comp_test"
   ]
  },
  {
   "cell_type": "markdown",
   "id": "f7af7bd2-c449-4706-bfa4-4437bba93f88",
   "metadata": {},
   "source": [
    "**Metric plots**"
   ]
  },
  {
   "cell_type": "code",
   "execution_count": 29,
   "id": "d47adf6f-56a2-455a-845a-aee4f2eace4c",
   "metadata": {},
   "outputs": [
    {
     "data": {
      "text/html": [
       "<div>\n",
       "<style scoped>\n",
       "    .dataframe tbody tr th:only-of-type {\n",
       "        vertical-align: middle;\n",
       "    }\n",
       "\n",
       "    .dataframe tbody tr th {\n",
       "        vertical-align: top;\n",
       "    }\n",
       "\n",
       "    .dataframe thead th {\n",
       "        text-align: right;\n",
       "    }\n",
       "</style>\n",
       "<table border=\"1\" class=\"dataframe\">\n",
       "  <thead>\n",
       "    <tr style=\"text-align: right;\">\n",
       "      <th></th>\n",
       "      <th>models</th>\n",
       "      <th>train_test</th>\n",
       "      <th>r2_score</th>\n",
       "    </tr>\n",
       "  </thead>\n",
       "  <tbody>\n",
       "    <tr>\n",
       "      <th>0</th>\n",
       "      <td>LinearRegression</td>\n",
       "      <td>Train set</td>\n",
       "      <td>0.850973</td>\n",
       "    </tr>\n",
       "    <tr>\n",
       "      <th>1</th>\n",
       "      <td>LinearRegression</td>\n",
       "      <td>Test set</td>\n",
       "      <td>0.840928</td>\n",
       "    </tr>\n",
       "    <tr>\n",
       "      <th>2</th>\n",
       "      <td>RandForest</td>\n",
       "      <td>Train set</td>\n",
       "      <td>0.999901</td>\n",
       "    </tr>\n",
       "    <tr>\n",
       "      <th>3</th>\n",
       "      <td>RandForest</td>\n",
       "      <td>Test set</td>\n",
       "      <td>0.877502</td>\n",
       "    </tr>\n",
       "    <tr>\n",
       "      <th>4</th>\n",
       "      <td>DNN</td>\n",
       "      <td>Train set</td>\n",
       "      <td>0.931906</td>\n",
       "    </tr>\n",
       "    <tr>\n",
       "      <th>5</th>\n",
       "      <td>DNN</td>\n",
       "      <td>Test set</td>\n",
       "      <td>0.845506</td>\n",
       "    </tr>\n",
       "    <tr>\n",
       "      <th>6</th>\n",
       "      <td>LSTM</td>\n",
       "      <td>Train set</td>\n",
       "      <td>0.966843</td>\n",
       "    </tr>\n",
       "    <tr>\n",
       "      <th>7</th>\n",
       "      <td>LSTM</td>\n",
       "      <td>Test set</td>\n",
       "      <td>0.919534</td>\n",
       "    </tr>\n",
       "    <tr>\n",
       "      <th>8</th>\n",
       "      <td>LSTM_session</td>\n",
       "      <td>Train set</td>\n",
       "      <td>0.967050</td>\n",
       "    </tr>\n",
       "    <tr>\n",
       "      <th>9</th>\n",
       "      <td>LSTM_session</td>\n",
       "      <td>Test set</td>\n",
       "      <td>0.921184</td>\n",
       "    </tr>\n",
       "  </tbody>\n",
       "</table>\n",
       "</div>"
      ],
      "text/plain": [
       "             models train_test  r2_score\n",
       "0  LinearRegression  Train set  0.850973\n",
       "1  LinearRegression   Test set  0.840928\n",
       "2        RandForest  Train set  0.999901\n",
       "3        RandForest   Test set  0.877502\n",
       "4               DNN  Train set  0.931906\n",
       "5               DNN   Test set  0.845506\n",
       "6              LSTM  Train set  0.966843\n",
       "7              LSTM   Test set  0.919534\n",
       "8      LSTM_session  Train set  0.967050\n",
       "9      LSTM_session   Test set  0.921184"
      ]
     },
     "execution_count": 29,
     "metadata": {},
     "output_type": "execute_result"
    }
   ],
   "source": [
    "dfplot=df_comp['r2_score'].to_frame().reset_index(names=['models','train_test'])\n",
    "dfplot"
   ]
  },
  {
   "cell_type": "code",
   "execution_count": 30,
   "id": "739b29e4-29ab-44b8-b062-849f56dc9798",
   "metadata": {},
   "outputs": [
    {
     "data": {
      "image/png": "[encoded data removed]",
      "text/plain": [
       "<Figure size 800x300 with 1 Axes>"
      ]
     },
     "metadata": {},
     "output_type": "display_data"
    }
   ],
   "source": [
    "# Create sns bar plot\n",
    "plt.figure(figsize=(8, 3))\n",
    "sns.barplot(x='models', y='r2_score', hue='train_test', data=dfplot,width=0.4)\n",
    "plt.legend( loc='lower right')\n",
    "plt.grid()\n",
    "plt.ylim([0.65,1])\n",
    "plt.title(\"Models comparison, R2-score\")\n",
    "plt.show()"
   ]
  },
  {
   "cell_type": "code",
   "execution_count": 31,
   "id": "3ee55e4c-9834-4b5f-9eaf-76bedf86c99e",
   "metadata": {},
   "outputs": [
    {
     "data": {
      "image/png": "[encoded data removed]",
      "text/plain": [
       "<Figure size 800x300 with 1 Axes>"
      ]
     },
     "metadata": {},
     "output_type": "display_data"
    }
   ],
   "source": [
    "dfplot=df_comp['NMSE'].to_frame().reset_index(names=['models','train_test'])\n",
    "# Create sns bar plot\n",
    "plt.figure(figsize=(8, 3))\n",
    "sns.barplot(x='models', y='NMSE', hue='train_test', data=dfplot,width=0.4)\n",
    "plt.legend( loc='upper right')\n",
    "plt.grid()\n",
    "#plt.ylim([0.65,1])\n",
    "plt.title(\"Models comparison, Normalized  MSE\")\n",
    "plt.show()"
   ]
  },
  {
   "cell_type": "code",
   "execution_count": 32,
   "id": "e7940c84-73bd-44a7-b048-2adcedecafc9",
   "metadata": {},
   "outputs": [
    {
     "data": {
      "image/png": "[encoded data removed]",
      "text/plain": [
       "<Figure size 800x300 with 1 Axes>"
      ]
     },
     "metadata": {},
     "output_type": "display_data"
    }
   ],
   "source": [
    "dfplot=df_comp['MSE'].to_frame().reset_index(names=['models','train_test'])\n",
    "# Create sns bar plot\n",
    "plt.figure(figsize=(8, 3))\n",
    "sns.barplot(x='models', y='MSE', hue='train_test', data=dfplot,width=0.4)\n",
    "plt.legend( loc='upper right')\n",
    "plt.grid()\n",
    "#plt.ylim([0.65,1])\n",
    "plt.title(\"Models comparison, Normalized  MSE\")\n",
    "plt.show()"
   ]
  },
  {
   "cell_type": "markdown",
   "id": "a8a2a60b-6774-460c-9f4a-12a24fa778c5",
   "metadata": {},
   "source": [
    "### The comparison of error mean/std of each model"
   ]
  },
  {
   "cell_type": "markdown",
   "id": "a661b626-2ff5-466d-a188-5ceb50baaf59",
   "metadata": {},
   "source": [
    "Organize the error mean/std of each model in a dictionary"
   ]
  },
  {
   "cell_type": "code",
   "execution_count": 33,
   "id": "95963246-c3c6-48a8-9f2d-b260c74c421b",
   "metadata": {},
   "outputs": [],
   "source": [
    "dic={\n",
    "'LinearRegression': \n",
    "    {'test': {'mean': -1.9822191989024145, 'std': 6.940021944961204}, 'train': {'mean': 4.4405223213114105e-14, 'std': 7.24016115623317}}\n",
    ",'RandForest':\n",
    "    {'test': {'mean': -1.0235385796178915, 'std': 6.250460143510107}, 'train': {'mean': -0.00014658345299136245, 'std': 0.1866308561610128}}\n",
    ",'DNN': \n",
    "    {'test': {'mean': -1.7818939510828322, 'std': 6.886318097071564}, 'train': {'mean': -0.6292989497877967, 'std': 4.853426733576612}}\n",
    ",'LSTM':\n",
    "    {'test': {'mean': -1.6058626449807745, 'std': 4.874914464130862}, 'train': {'mean': -1.2347944542939768, 'std': 3.1821910234518445}}\n",
    ",'LSTM_session':\n",
    "    {'test': {'mean': -1.5537948017744347, 'std': 4.8190660900595645}, 'train': {'mean': -1.1761755081762932, 'std': 3.1272715286099864}}\n",
    "}"
   ]
  },
  {
   "cell_type": "markdown",
   "id": "bf1b4800-c5a2-49f6-8054-8ba01e959706",
   "metadata": {},
   "source": [
    "**Prepare the data Frame**"
   ]
  },
  {
   "cell_type": "code",
   "execution_count": 34,
   "id": "9e2ebdbe-c789-493d-88b3-40b973d3788b",
   "metadata": {},
   "outputs": [
    {
     "data": {
      "text/html": [
       "<div>\n",
       "<style scoped>\n",
       "    .dataframe tbody tr th:only-of-type {\n",
       "        vertical-align: middle;\n",
       "    }\n",
       "\n",
       "    .dataframe tbody tr th {\n",
       "        vertical-align: top;\n",
       "    }\n",
       "\n",
       "    .dataframe thead th {\n",
       "        text-align: right;\n",
       "    }\n",
       "</style>\n",
       "<table border=\"1\" class=\"dataframe\">\n",
       "  <thead>\n",
       "    <tr style=\"text-align: right;\">\n",
       "      <th></th>\n",
       "      <th></th>\n",
       "      <th>mean</th>\n",
       "      <th>std</th>\n",
       "      <th>_3_sdt</th>\n",
       "    </tr>\n",
       "  </thead>\n",
       "  <tbody>\n",
       "    <tr>\n",
       "      <th rowspan=\"2\" valign=\"top\">LinearRegression</th>\n",
       "      <th>test</th>\n",
       "      <td>-1.982219e+00</td>\n",
       "      <td>6.940022</td>\n",
       "      <td>20.820066</td>\n",
       "    </tr>\n",
       "    <tr>\n",
       "      <th>train</th>\n",
       "      <td>4.440522e-14</td>\n",
       "      <td>7.240161</td>\n",
       "      <td>21.720483</td>\n",
       "    </tr>\n",
       "    <tr>\n",
       "      <th rowspan=\"2\" valign=\"top\">RandForest</th>\n",
       "      <th>test</th>\n",
       "      <td>-1.023539e+00</td>\n",
       "      <td>6.250460</td>\n",
       "      <td>18.751380</td>\n",
       "    </tr>\n",
       "    <tr>\n",
       "      <th>train</th>\n",
       "      <td>-1.465835e-04</td>\n",
       "      <td>0.186631</td>\n",
       "      <td>0.559893</td>\n",
       "    </tr>\n",
       "    <tr>\n",
       "      <th rowspan=\"2\" valign=\"top\">DNN</th>\n",
       "      <th>test</th>\n",
       "      <td>-1.781894e+00</td>\n",
       "      <td>6.886318</td>\n",
       "      <td>20.658954</td>\n",
       "    </tr>\n",
       "    <tr>\n",
       "      <th>train</th>\n",
       "      <td>-6.292989e-01</td>\n",
       "      <td>4.853427</td>\n",
       "      <td>14.560280</td>\n",
       "    </tr>\n",
       "    <tr>\n",
       "      <th rowspan=\"2\" valign=\"top\">LSTM</th>\n",
       "      <th>test</th>\n",
       "      <td>-1.605863e+00</td>\n",
       "      <td>4.874914</td>\n",
       "      <td>14.624743</td>\n",
       "    </tr>\n",
       "    <tr>\n",
       "      <th>train</th>\n",
       "      <td>-1.234794e+00</td>\n",
       "      <td>3.182191</td>\n",
       "      <td>9.546573</td>\n",
       "    </tr>\n",
       "    <tr>\n",
       "      <th rowspan=\"2\" valign=\"top\">LSTM_session</th>\n",
       "      <th>test</th>\n",
       "      <td>-1.553795e+00</td>\n",
       "      <td>4.819066</td>\n",
       "      <td>14.457198</td>\n",
       "    </tr>\n",
       "    <tr>\n",
       "      <th>train</th>\n",
       "      <td>-1.176176e+00</td>\n",
       "      <td>3.127272</td>\n",
       "      <td>9.381815</td>\n",
       "    </tr>\n",
       "  </tbody>\n",
       "</table>\n",
       "</div>"
      ],
      "text/plain": [
       "                                mean       std     _3_sdt\n",
       "LinearRegression test  -1.982219e+00  6.940022  20.820066\n",
       "                 train  4.440522e-14  7.240161  21.720483\n",
       "RandForest       test  -1.023539e+00  6.250460  18.751380\n",
       "                 train -1.465835e-04  0.186631   0.559893\n",
       "DNN              test  -1.781894e+00  6.886318  20.658954\n",
       "                 train -6.292989e-01  4.853427  14.560280\n",
       "LSTM             test  -1.605863e+00  4.874914  14.624743\n",
       "                 train -1.234794e+00  3.182191   9.546573\n",
       "LSTM_session     test  -1.553795e+00  4.819066  14.457198\n",
       "                 train -1.176176e+00  3.127272   9.381815"
      ]
     },
     "execution_count": 34,
     "metadata": {},
     "output_type": "execute_result"
    }
   ],
   "source": [
    "# dict => df\n",
    "df_comp = pd.DataFrame.from_dict({(i,j): dic[i][j] \n",
    "                           for i in dic.keys() \n",
    "                           for j in dic[i].keys()},\n",
    "                       orient='index')\n",
    "#calcul 3*sdt of each model \n",
    "df_comp['_3_sdt']=df_comp['std']*3\n",
    "df_comp"
   ]
  },
  {
   "cell_type": "markdown",
   "id": "43f48237-1071-4196-beba-cd0f84efb671",
   "metadata": {},
   "source": [
    "**Why 3 STD of the error?**"
   ]
  },
  {
   "cell_type": "code",
   "execution_count": 35,
   "id": "00ea4abd-5657-4598-89ca-d4d1ff6d0661",
   "metadata": {},
   "outputs": [
    {
     "name": "stdout",
     "output_type": "stream",
     "text": [
      "> the population covered by - 1 and + 1 STD is 68.2689491 %\n",
      "> the population covered by - 2 and + 2 STD is 95.4499733 %\n",
      "> the population covered by - 3 and + 3 STD is 99.7300203 %\n",
      "> the population covered by - 4 and + 4 STD is 99.9936657 %\n",
      "> the population covered by - 5 and + 5 STD is 99.9999427 %\n",
      "> the population covered by - 6 and + 6 STD is 99.9999998 %\n"
     ]
    }
   ],
   "source": [
    "for n_std in range(1,7):\n",
    "    x=np.linspace(-n_std,n_std,10000)\n",
    "    pdf=norm_pdf(x, mean=0, std=1)\n",
    "    print('> the population covered by -', n_std, 'and +', n_std, 'STD is', \\\n",
    "          '{:.7f}'.format(100*np.trapz(y=pdf, x=x)) ,'%')\n",
    "    "
   ]
  },
  {
   "cell_type": "markdown",
   "id": "4b496482-41cd-481f-82a5-d874bd39a8ff",
   "metadata": {},
   "source": [
    "+/- 3 SDT cover 99.73% of the population"
   ]
  },
  {
   "cell_type": "markdown",
   "id": "e928bae0-8bd7-4c06-8e16-b3606d1dd707",
   "metadata": {},
   "source": [
    "**Only Test set**"
   ]
  },
  {
   "cell_type": "code",
   "execution_count": 36,
   "id": "3c257056-22f5-4e9b-912e-24db3a545068",
   "metadata": {},
   "outputs": [
    {
     "data": {
      "text/html": [
       "<div>\n",
       "<style scoped>\n",
       "    .dataframe tbody tr th:only-of-type {\n",
       "        vertical-align: middle;\n",
       "    }\n",
       "\n",
       "    .dataframe tbody tr th {\n",
       "        vertical-align: top;\n",
       "    }\n",
       "\n",
       "    .dataframe thead th {\n",
       "        text-align: right;\n",
       "    }\n",
       "</style>\n",
       "<table border=\"1\" class=\"dataframe\">\n",
       "  <thead>\n",
       "    <tr style=\"text-align: right;\">\n",
       "      <th></th>\n",
       "      <th></th>\n",
       "      <th>mean</th>\n",
       "      <th>std</th>\n",
       "      <th>_3_sdt</th>\n",
       "    </tr>\n",
       "  </thead>\n",
       "  <tbody>\n",
       "    <tr>\n",
       "      <th>LinearRegression</th>\n",
       "      <th>test</th>\n",
       "      <td>-1.982219</td>\n",
       "      <td>6.940022</td>\n",
       "      <td>20.820066</td>\n",
       "    </tr>\n",
       "    <tr>\n",
       "      <th>RandForest</th>\n",
       "      <th>test</th>\n",
       "      <td>-1.023539</td>\n",
       "      <td>6.250460</td>\n",
       "      <td>18.751380</td>\n",
       "    </tr>\n",
       "    <tr>\n",
       "      <th>DNN</th>\n",
       "      <th>test</th>\n",
       "      <td>-1.781894</td>\n",
       "      <td>6.886318</td>\n",
       "      <td>20.658954</td>\n",
       "    </tr>\n",
       "    <tr>\n",
       "      <th>LSTM</th>\n",
       "      <th>test</th>\n",
       "      <td>-1.605863</td>\n",
       "      <td>4.874914</td>\n",
       "      <td>14.624743</td>\n",
       "    </tr>\n",
       "    <tr>\n",
       "      <th>LSTM_session</th>\n",
       "      <th>test</th>\n",
       "      <td>-1.553795</td>\n",
       "      <td>4.819066</td>\n",
       "      <td>14.457198</td>\n",
       "    </tr>\n",
       "  </tbody>\n",
       "</table>\n",
       "</div>"
      ],
      "text/plain": [
       "                           mean       std     _3_sdt\n",
       "LinearRegression test -1.982219  6.940022  20.820066\n",
       "RandForest       test -1.023539  6.250460  18.751380\n",
       "DNN              test -1.781894  6.886318  20.658954\n",
       "LSTM             test -1.605863  4.874914  14.624743\n",
       "LSTM_session     test -1.553795  4.819066  14.457198"
      ]
     },
     "execution_count": 36,
     "metadata": {},
     "output_type": "execute_result"
    }
   ],
   "source": [
    "df_comp_train=df_comp.loc[(slice(None), 'test'), :]\n",
    "df_comp_train"
   ]
  },
  {
   "cell_type": "code",
   "execution_count": 37,
   "id": "0d16dc9a-e856-44e7-8876-800dd6da4887",
   "metadata": {},
   "outputs": [
    {
     "data": {
      "text/html": [
       "<div>\n",
       "<style scoped>\n",
       "    .dataframe tbody tr th:only-of-type {\n",
       "        vertical-align: middle;\n",
       "    }\n",
       "\n",
       "    .dataframe tbody tr th {\n",
       "        vertical-align: top;\n",
       "    }\n",
       "\n",
       "    .dataframe thead th {\n",
       "        text-align: right;\n",
       "    }\n",
       "</style>\n",
       "<table border=\"1\" class=\"dataframe\">\n",
       "  <thead>\n",
       "    <tr style=\"text-align: right;\">\n",
       "      <th></th>\n",
       "      <th>models</th>\n",
       "      <th>train_test</th>\n",
       "      <th>_3_sdt</th>\n",
       "    </tr>\n",
       "  </thead>\n",
       "  <tbody>\n",
       "    <tr>\n",
       "      <th>0</th>\n",
       "      <td>LinearRegression</td>\n",
       "      <td>test</td>\n",
       "      <td>20.820066</td>\n",
       "    </tr>\n",
       "    <tr>\n",
       "      <th>1</th>\n",
       "      <td>RandForest</td>\n",
       "      <td>test</td>\n",
       "      <td>18.751380</td>\n",
       "    </tr>\n",
       "    <tr>\n",
       "      <th>2</th>\n",
       "      <td>DNN</td>\n",
       "      <td>test</td>\n",
       "      <td>20.658954</td>\n",
       "    </tr>\n",
       "    <tr>\n",
       "      <th>3</th>\n",
       "      <td>LSTM</td>\n",
       "      <td>test</td>\n",
       "      <td>14.624743</td>\n",
       "    </tr>\n",
       "    <tr>\n",
       "      <th>4</th>\n",
       "      <td>LSTM_session</td>\n",
       "      <td>test</td>\n",
       "      <td>14.457198</td>\n",
       "    </tr>\n",
       "  </tbody>\n",
       "</table>\n",
       "</div>"
      ],
      "text/plain": [
       "             models train_test     _3_sdt\n",
       "0  LinearRegression       test  20.820066\n",
       "1        RandForest       test  18.751380\n",
       "2               DNN       test  20.658954\n",
       "3              LSTM       test  14.624743\n",
       "4      LSTM_session       test  14.457198"
      ]
     },
     "execution_count": 37,
     "metadata": {},
     "output_type": "execute_result"
    }
   ],
   "source": [
    "dfplot=df_comp_train['_3_sdt'].to_frame().reset_index(names=['models','train_test'])\n",
    "dfplot"
   ]
  },
  {
   "cell_type": "markdown",
   "id": "42d6467a-b5d2-443e-9194-660575c6d5b8",
   "metadata": {},
   "source": [
    "**Plot 3 STD error of each models**"
   ]
  },
  {
   "cell_type": "code",
   "execution_count": 38,
   "id": "0c096fcb-8683-4452-9655-c3b3d1834ff9",
   "metadata": {},
   "outputs": [
    {
     "data": {
      "text/html": [
       "<div>\n",
       "<style scoped>\n",
       "    .dataframe tbody tr th:only-of-type {\n",
       "        vertical-align: middle;\n",
       "    }\n",
       "\n",
       "    .dataframe tbody tr th {\n",
       "        vertical-align: top;\n",
       "    }\n",
       "\n",
       "    .dataframe thead th {\n",
       "        text-align: right;\n",
       "    }\n",
       "</style>\n",
       "<table border=\"1\" class=\"dataframe\">\n",
       "  <thead>\n",
       "    <tr style=\"text-align: right;\">\n",
       "      <th></th>\n",
       "      <th>models</th>\n",
       "      <th>train_test</th>\n",
       "      <th>_3_sdt</th>\n",
       "    </tr>\n",
       "  </thead>\n",
       "  <tbody>\n",
       "    <tr>\n",
       "      <th>0</th>\n",
       "      <td>LinearRegression</td>\n",
       "      <td>test</td>\n",
       "      <td>20.820066</td>\n",
       "    </tr>\n",
       "    <tr>\n",
       "      <th>1</th>\n",
       "      <td>LinearRegression</td>\n",
       "      <td>train</td>\n",
       "      <td>21.720483</td>\n",
       "    </tr>\n",
       "    <tr>\n",
       "      <th>2</th>\n",
       "      <td>RandForest</td>\n",
       "      <td>test</td>\n",
       "      <td>18.751380</td>\n",
       "    </tr>\n",
       "    <tr>\n",
       "      <th>3</th>\n",
       "      <td>RandForest</td>\n",
       "      <td>train</td>\n",
       "      <td>0.559893</td>\n",
       "    </tr>\n",
       "    <tr>\n",
       "      <th>4</th>\n",
       "      <td>DNN</td>\n",
       "      <td>test</td>\n",
       "      <td>20.658954</td>\n",
       "    </tr>\n",
       "  </tbody>\n",
       "</table>\n",
       "</div>"
      ],
      "text/plain": [
       "             models train_test     _3_sdt\n",
       "0  LinearRegression       test  20.820066\n",
       "1  LinearRegression      train  21.720483\n",
       "2        RandForest       test  18.751380\n",
       "3        RandForest      train   0.559893\n",
       "4               DNN       test  20.658954"
      ]
     },
     "execution_count": 38,
     "metadata": {},
     "output_type": "execute_result"
    }
   ],
   "source": [
    "dfplot=df_comp['_3_sdt'].to_frame().reset_index(names=['models','train_test'])\n",
    "dfplot.head()"
   ]
  },
  {
   "cell_type": "code",
   "execution_count": 24,
   "id": "bea91ebe-c935-42b5-b3ed-d33d4cd6952d",
   "metadata": {},
   "outputs": [
    {
     "data": {
      "image/png": "[encoded data removed]",
      "text/plain": [
       "<Figure size 800x300 with 1 Axes>"
      ]
     },
     "metadata": {},
     "output_type": "display_data"
    }
   ],
   "source": [
    "# Create sns bar plot\n",
    "plt.figure(figsize=(8, 3))\n",
    "sns.barplot(x='models', y='_3_sdt', hue='train_test', data=dfplot,width=0.2)\n",
    "plt.legend( loc='upper right')\n",
    "plt.grid()\n",
    "plt.ylabel('maximum prediction error @ +3 std °C')\n",
    "plt.title(\"Models comparison, +3 STD EOOR (couver 99.73% of the cases)\")\n",
    "plt.show()"
   ]
  },
  {
   "cell_type": "markdown",
   "id": "538ca6e6-f00d-482a-a3c4-13df88b1c531",
   "metadata": {},
   "source": [
    "### Conclusion"
   ]
  },
  {
   "cell_type": "markdown",
   "id": "fc3b248e-898c-48da-b137-95f206333ba4",
   "metadata": {},
   "source": [
    "The LSTM model is the best estimator, the difference between the first LSTM and LSTM_session is very small. \n",
    "<br> \n",
    "We can see also that the RandomForest overfit the train set.\n",
    "<br> \n",
    "Since we predict a temperature from time series, the best model is a recurrent model, because the temperature at the time \"t\" depend to stat of the past. for example if the inertia time is 10min, the ideal model will be a model that take in account at least 10 min past data to predict the temperature. \n",
    "<br> \n",
    "Even with the LSTM model, the prediction is not very accurate in this projet. we can see above that the error at +/-3 STD is +/-14.5°C, this error is heigh. \n",
    "<br> \n",
    "The next step will be to tune the hyperparameters of the LSTM and to tray other recurrent model such the RNN (Recurrent Neural Network) and the GRU (Gated recurrent units)"
   ]
  }
 ],
 "metadata": {
  "kernelspec": {
   "display_name": "Python 3 (ipykernel)",
   "language": "python",
   "name": "python3"
  },
  "language_info": {
   "codemirror_mode": {
    "name": "ipython",
    "version": 3
   },
   "file_extension": ".py",
   "mimetype": "text/x-python",
   "name": "python",
   "nbconvert_exporter": "python",
   "pygments_lexer": "ipython3",
   "version": "3.10.5"
  }
 },
 "nbformat": 4,
 "nbformat_minor": 5
}
